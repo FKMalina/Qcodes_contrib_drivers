{
 "cells": [
  {
   "cell_type": "markdown",
   "id": "29fae1aa-5549-4ac4-b042-dde20ba6807b",
   "metadata": {
    "editable": true,
    "slideshow": {
     "slide_type": ""
    },
    "tags": []
   },
   "source": [
    "# NANONIS TRAMEA EXAMPLES"
   ]
  },
  {
   "cell_type": "raw",
   "id": "3fb6df79-787f-49b3-8e29-918f098ba311",
   "metadata": {},
   "source": [
    "{\n",
    "  \"nbsphinx\": {\n",
    "    \"execute\": \"never\"\n",
    "  }\n",
    "}"
   ]
  },
  {
   "cell_type": "code",
   "execution_count": 1,
   "id": "4aa6f099-0b01-4ab6-8d97-c245f4a4bf5f",
   "metadata": {
    "editable": true,
    "slideshow": {
     "slide_type": ""
    },
    "tags": []
   },
   "outputs": [],
   "source": [
    "from qcodes_contrib_drivers.drivers.SPECS.Specs_Tramea import NanonisTramea"
   ]
  },
  {
   "cell_type": "code",
   "execution_count": 2,
   "id": "78aa2368-7863-4c6f-a566-cfc4ad55dc22",
   "metadata": {
    "editable": true,
    "slideshow": {
     "slide_type": ""
    },
    "tags": []
   },
   "outputs": [],
   "source": [
    "import socket\n",
    "import time\n",
    "Between_Commands_Time_s=0.5"
   ]
  },
  {
   "cell_type": "markdown",
   "id": "9cd43090-ff33-4505-a484-c58092b4fb91",
   "metadata": {
    "editable": true,
    "slideshow": {
     "slide_type": ""
    },
    "tags": []
   },
   "source": [
    "CREATE AN INSTANCE TO THE INSTRUMENT\n",
    "This makes the connection to the Tramea controller"
   ]
  },
  {
   "cell_type": "code",
   "execution_count": 3,
   "id": "67f2c543-61a4-47d0-9c4e-e3568ee19d11",
   "metadata": {},
   "outputs": [
    {
     "ename": "ConnectionRefusedError",
     "evalue": "[WinError 10061] No connection could be made because the target machine actively refused it",
     "output_type": "error",
     "traceback": [
      "\u001b[31m---------------------------------------------------------------------------\u001b[39m",
      "\u001b[31mConnectionRefusedError\u001b[39m                    Traceback (most recent call last)",
      "\u001b[36mCell\u001b[39m\u001b[36m \u001b[39m\u001b[32mIn[3]\u001b[39m\u001b[32m, line 1\u001b[39m\n\u001b[32m----> \u001b[39m\u001b[32m1\u001b[39m nanonisInstance = \u001b[43mNanonisTramea\u001b[49m\u001b[43m(\u001b[49m\u001b[43mname\u001b[49m\u001b[43m=\u001b[49m\u001b[33;43m\"\u001b[39;49m\u001b[33;43mTramea\u001b[39;49m\u001b[33;43m\"\u001b[39;49m\u001b[43m,\u001b[49m\u001b[43m \u001b[49m\u001b[43maddress\u001b[49m\u001b[43m=\u001b[49m\u001b[33;43m\"\u001b[39;49m\u001b[33;43mlocalhost\u001b[39;49m\u001b[33;43m\"\u001b[39;49m\u001b[43m,\u001b[49m\u001b[43m \u001b[49m\u001b[43mport\u001b[49m\u001b[43m=\u001b[49m\u001b[32;43m6502\u001b[39;49m\u001b[43m)\u001b[49m\n",
      "\u001b[36mFile \u001b[39m\u001b[32mC:\\Program Files\\Python313\\Lib\\site-packages\\qcodes\\instrument\\instrument_meta.py:36\u001b[39m, in \u001b[36mInstrumentMeta.__call__\u001b[39m\u001b[34m(cls, *args, **kwargs)\u001b[39m\n\u001b[32m     31\u001b[39m \u001b[38;5;28;01mdef\u001b[39;00m\u001b[38;5;250m \u001b[39m\u001b[34m__call__\u001b[39m(\u001b[38;5;28mcls\u001b[39m, *args: Any, **kwargs: Any) -> Any:\n\u001b[32m     32\u001b[39m \u001b[38;5;250m    \u001b[39m\u001b[33;03m\"\"\"\u001b[39;00m\n\u001b[32m     33\u001b[39m \u001b[33;03m    Overloads `type.__call__` to add code that runs only if __init__ completes\u001b[39;00m\n\u001b[32m     34\u001b[39m \u001b[33;03m    successfully.\u001b[39;00m\n\u001b[32m     35\u001b[39m \u001b[33;03m    \"\"\"\u001b[39;00m\n\u001b[32m---> \u001b[39m\u001b[32m36\u001b[39m     new_inst = \u001b[38;5;28;43msuper\u001b[39;49m\u001b[43m(\u001b[49m\u001b[43m)\u001b[49m\u001b[43m.\u001b[49m\u001b[34;43m__call__\u001b[39;49m\u001b[43m(\u001b[49m\u001b[43m*\u001b[49m\u001b[43margs\u001b[49m\u001b[43m,\u001b[49m\u001b[43m \u001b[49m\u001b[43m*\u001b[49m\u001b[43m*\u001b[49m\u001b[43mkwargs\u001b[49m\u001b[43m)\u001b[49m\n\u001b[32m     37\u001b[39m     is_abstract = new_inst._is_abstract()\n\u001b[32m     38\u001b[39m     \u001b[38;5;28;01mif\u001b[39;00m is_abstract:\n",
      "\u001b[36mFile \u001b[39m\u001b[32mC:\\Program Files\\Python313\\Lib\\site-packages\\qcodes_contrib_drivers\\drivers\\SPECS\\Specs_Tramea.py:32\u001b[39m, in \u001b[36mNanonisTramea.__init__\u001b[39m\u001b[34m(self, name, address, port, **kwargs)\u001b[39m\n\u001b[32m     29\u001b[39m \u001b[38;5;28mself\u001b[39m.firmware = \u001b[32m1\u001b[39m\n\u001b[32m     31\u001b[39m \u001b[38;5;28mself\u001b[39m._socket = socket.socket(socket.AF_INET, socket.SOCK_STREAM)\n\u001b[32m---> \u001b[39m\u001b[32m32\u001b[39m \u001b[38;5;28;43mself\u001b[39;49m\u001b[43m.\u001b[49m\u001b[43m_socket\u001b[49m\u001b[43m.\u001b[49m\u001b[43mconnect\u001b[49m\u001b[43m(\u001b[49m\u001b[43m(\u001b[49m\u001b[38;5;28;43mself\u001b[39;49m\u001b[43m.\u001b[49m\u001b[43m_address\u001b[49m\u001b[43m,\u001b[49m\u001b[43m \u001b[49m\u001b[38;5;28;43mself\u001b[39;49m\u001b[43m.\u001b[49m\u001b[43m_port\u001b[49m\u001b[43m)\u001b[49m\u001b[43m)\u001b[49m\n\u001b[32m     34\u001b[39m \u001b[38;5;28mself\u001b[39m.n = nanonis_tramea.Nanonis(\u001b[38;5;28mself\u001b[39m._socket)\n\u001b[32m     36\u001b[39m \u001b[38;5;28;01mfor\u001b[39;00m out \u001b[38;5;129;01min\u001b[39;00m \u001b[38;5;28mrange\u001b[39m(\u001b[32m1\u001b[39m, \u001b[32m51\u001b[39m):\n",
      "\u001b[31mConnectionRefusedError\u001b[39m: [WinError 10061] No connection could be made because the target machine actively refused it"
     ]
    }
   ],
   "source": [
    "nanonisInstance = NanonisTramea(name=\"Tramea\", address=\"localhost\", port=6502)"
   ]
  },
  {
   "cell_type": "markdown",
   "id": "1a6919be-294c-4616-a2f2-4fa5cd69f985",
   "metadata": {
    "editable": true,
    "slideshow": {
     "slide_type": ""
    },
    "tags": []
   },
   "source": [
    "## GET/SET CHANNELS VALUES THROUGH PARAMETERS"
   ]
  },
  {
   "cell_type": "code",
   "execution_count": null,
   "id": "84a8e0d8-ea15-4095-97a4-4a7a294c93d2",
   "metadata": {
    "editable": true,
    "scrolled": true,
    "slideshow": {
     "slide_type": ""
    },
    "tags": []
   },
   "outputs": [],
   "source": [
    "nanonisInstance.Output1(5)\n",
    "nanonisInstance.Output2(7)\n",
    "\n",
    "print(nanonisInstance.Output1.get())\n",
    "print(nanonisInstance.Output2.get())\n",
    "print(nanonisInstance.Output8.get())\n",
    "print(nanonisInstance.Input1.get())\n",
    "print(nanonisInstance.Input8.get())"
   ]
  },
  {
   "cell_type": "markdown",
   "id": "1b4db55f-aaae-42ae-b2d3-345618b31195",
   "metadata": {
    "editable": true,
    "slideshow": {
     "slide_type": ""
    },
    "tags": []
   },
   "source": [
    "## SIGNALS FUNCTIONS"
   ]
  },
  {
   "cell_type": "code",
   "execution_count": null,
   "id": "57487ab0-fa96-43b5-8257-e9330cb83abd",
   "metadata": {
    "editable": true,
    "slideshow": {
     "slide_type": ""
    },
    "tags": []
   },
   "outputs": [],
   "source": [
    "SignalsNames_Get=nanonisInstance.Signals_NamesGet()\n",
    "time.sleep(Between_Commands_Time_s)\n",
    "\n",
    "SignalsCalibr_Get=nanonisInstance.Signals_CalibrGet(0)\n",
    "time.sleep(Between_Commands_Time_s)\n",
    "\n",
    "SignalsRange_Get=nanonisInstance.Signals_RangeGet(1)\n",
    "time.sleep(Between_Commands_Time_s)\n",
    "\n",
    "SignalsMeasNames_Get=nanonisInstance.Signals_MeasNamesGet()\n",
    "time.sleep(Between_Commands_Time_s)\n",
    "\n",
    "SignalsAddRT_Get=nanonisInstance.Signals_AddRTGet()\n",
    "time.sleep(Between_Commands_Time_s)\n",
    "\n",
    "nanonisInstance.Signals_AddRTSet(1, 2)\n",
    "time.sleep(Between_Commands_Time_s)\n",
    "\n",
    "print(\"THE SIGNALS NAMES ARE: \")\n",
    "print(SignalsNames_Get)\n",
    "print(\"THE SIGNAL CALIBRATION IS: \")\n",
    "print(SignalsCalibr_Get)\n",
    "print(\"THE SIGNAL RANGE IS: \")\n",
    "print(SignalsRange_Get)\n",
    "print(\"THE MEASUREMENT SIGNALS NAMES ARE: \")\n",
    "print(SignalsMeasNames_Get)\n",
    "print(\"THE LIST OF NAMES OF THE ADDITIONAL RT SIGNALS IS: \")\n",
    "print(SignalsAddRT_Get)\n",
    "\n"
   ]
  },
  {
   "cell_type": "markdown",
   "id": "0acf583f-b00d-4799-9673-a1ffb791aeda",
   "metadata": {
    "editable": true,
    "slideshow": {
     "slide_type": ""
    },
    "tags": []
   },
   "source": [
    "## 1D SWEEPER FUNCTIONS"
   ]
  },
  {
   "cell_type": "code",
   "execution_count": null,
   "id": "dd325bee-6910-4f23-9139-a32040db6cf9",
   "metadata": {
    "editable": true,
    "slideshow": {
     "slide_type": ""
    },
    "tags": []
   },
   "outputs": [],
   "source": [
    "Channel_indexes=[0,3]\n",
    "Channel_names=[\"\",\"\"]\n",
    "Sweep_channel_name=\"Output 1 (V)\"\n",
    "Lower_limit=1\n",
    "Upper_limit=5\n",
    "Initial_Settling_time_ms=0.4\n",
    "Maximum_slew_rate_units_s=10\n",
    "Number_of_steps=50\n",
    "Period_ms=0.25\n",
    "Autosave=0\n",
    "Save_dialog_box=0\n",
    "Settling_time_ms=0.1\n",
    "Get_data=1\n",
    "Sweep_direction=0\n",
    "Save_base_name=\"test sweeper\"\n",
    "Reset_signal=1\n",
    "\n",
    "nanonisInstance.OneDSwp_Open()\n",
    "time.sleep(Between_Commands_Time_s)\n",
    "\n",
    "nanonisInstance.OneDSwp_AcqChsSet(Channel_indexes, Channel_names)\n",
    "time.sleep(Between_Commands_Time_s)\n",
    "channels_Get=nanonisInstance.OneDSwp_AcqChsGet()\n",
    "time.sleep(Between_Commands_Time_s)\n",
    "\n",
    "nanonisInstance.OneDSwp_SwpSignalSet(Sweep_channel_name)\n",
    "time.sleep(Between_Commands_Time_s)\n",
    "channelsList_Get=nanonisInstance.OneDSwp_SwpSignalGet()\n",
    "time.sleep(Between_Commands_Time_s)\n",
    "\n",
    "nanonisInstance.OneDSwp_LimitsSet(Lower_limit, Upper_limit)\n",
    "time.sleep(Between_Commands_Time_s)\n",
    "Limits_Get=nanonisInstance.OneDSwp_LimitsGet()\n",
    "time.sleep(Between_Commands_Time_s)\n",
    "\n",
    "nanonisInstance.OneDSwp_PropsSet(Initial_Settling_time_ms, Maximum_slew_rate_units_s, Number_of_steps, Period_ms, Autosave, Save_dialog_box, Settling_time_ms)\n",
    "time.sleep(Between_Commands_Time_s)\n",
    "Props_Get=nanonisInstance.OneDSwp_PropsGet()\n",
    "time.sleep(Between_Commands_Time_s)\n",
    "\n",
    "data=nanonisInstance.OneDSwp_Start(Get_data, Sweep_direction, Save_base_name, Reset_signal, 0)\n",
    "time.sleep(1)\n",
    "\n",
    "print(\"THE ACQUIRED CHANNELS ARE: \")\n",
    "print(channels_Get[1])\n",
    "print(\"THE FULL LIST OF CHANNELS IS: \")\n",
    "print(channelsList_Get[4])\n",
    "print(\"THE LIMITS ARE: \")\n",
    "print(Limits_Get)\n",
    "print(\"THE SETTLING TIME IS: \")\n",
    "print(Props_Get[6])\n",
    "print(\"THE ACQUIRED DATA ARE: \")\n",
    "print(data[5])"
   ]
  },
  {
   "cell_type": "markdown",
   "id": "85c458da-4989-4110-8963-ef0caee84fcd",
   "metadata": {
    "editable": true,
    "slideshow": {
     "slide_type": ""
    },
    "tags": []
   },
   "source": [
    "## CLOSE THE CONNECTION"
   ]
  },
  {
   "cell_type": "code",
   "execution_count": null,
   "id": "ee2bcbed-c608-46b3-b385-77cb44e12f3c",
   "metadata": {},
   "outputs": [],
   "source": [
    "nanonisInstance.close()"
   ]
  }
 ],
 "metadata": {
  "kernelspec": {
   "display_name": "Python 3 (ipykernel)",
   "language": "python",
   "name": "python3"
  },
  "language_info": {
   "codemirror_mode": {
    "name": "ipython",
    "version": 3
   },
   "file_extension": ".py",
   "mimetype": "text/x-python",
   "name": "python",
   "nbconvert_exporter": "python",
   "pygments_lexer": "ipython3",
   "version": "3.13.4"
  }
 },
 "nbformat": 4,
 "nbformat_minor": 5
}
